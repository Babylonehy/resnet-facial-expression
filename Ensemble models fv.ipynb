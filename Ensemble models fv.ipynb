{
 "cells": [
  {
   "cell_type": "code",
   "execution_count": null,
   "metadata": {
    "ExecuteTime": {
     "end_time": "2017-06-10T07:11:19.651257Z",
     "start_time": "2017-06-10T07:11:17.754589Z"
    },
    "collapsed": true
   },
   "outputs": [],
   "source": [
    "%matplotlib notebook\n",
    "%load_ext autoreload\n",
    "from glob import glob\n",
    "from skimage import io\n",
    "from matplotlib import style\n",
    "import matplotlib.pyplot as plt\n",
    "import pandas as pd\n",
    "from pprint import pprint as pp\n",
    "from matplotlib.font_manager import FontProperties\n",
    "import matplotlib\n",
    "matplotlib.get_backend()\n",
    "import joblib as jb\n",
    "import seaborn as sns\n",
    "import palettable.colorbrewer as cb\n",
    "sns.set_palette('colorblind')\n",
    "from IPython.display import SVG\n",
    "from sklearn.model_selection import train_test_split\n",
    "import time\n",
    "import tensorflow as tf\n",
    "from tqdm import tnrange, tqdm_notebook\n",
    "from datetime import timedelta\n",
    "import palettable.cmocean as ocean\n",
    "from __future__ import unicode_literals\n",
    "import os\n",
    "import IPython.display as display\n",
    "#matplotlib.rcParams['backend'] = 'TkAgg' \n",
    "from sklearn import metrics"
   ]
  },
  {
   "cell_type": "markdown",
   "metadata": {},
   "source": [
    "## Data Dimension"
   ]
  },
  {
   "cell_type": "code",
   "execution_count": 8,
   "metadata": {
    "ExecuteTime": {
     "end_time": "2017-06-10T07:11:24.446407Z",
     "start_time": "2017-06-10T07:11:24.441492Z"
    },
    "collapsed": true
   },
   "outputs": [],
   "source": [
    "image_size=48\n",
    "image_size_flat=image_size*image_size\n",
    "image_shape=(image_size,image_size)\n",
    "# Number of colour channels for the images: 1 channel for gray-scale.\n",
    "num_channels = 1\n",
    "num_classes = 6"
   ]
  },
  {
   "cell_type": "markdown",
   "metadata": {},
   "source": [
    "## Convolutional Network Architecture"
   ]
  },
  {
   "cell_type": "code",
   "execution_count": 9,
   "metadata": {
    "ExecuteTime": {
     "end_time": "2017-06-10T07:11:27.540087Z",
     "start_time": "2017-06-10T07:11:27.535228Z"
    },
    "collapsed": true
   },
   "outputs": [],
   "source": [
    "# Convolutional Layer 1.\n",
    "filter_size1 = 5          # Convolution filters are 5 x 5 pixels.\n",
    "num_filters1 = 16         # There are 16 of these filters.\n",
    "\n",
    "# Convolutional Layer 2.\n",
    "filter_size2 = 5          # Convolution filters are 5 x 5 pixels.\n",
    "num_filters2 = 36         # There are 36 of these filters.\n",
    "\n",
    "# Fully-connected layer.\n",
    "dc_size = 128   "
   ]
  },
  {
   "cell_type": "markdown",
   "metadata": {},
   "source": [
    "## Generate Filenames for Plots"
   ]
  },
  {
   "cell_type": "code",
   "execution_count": 10,
   "metadata": {
    "ExecuteTime": {
     "end_time": "2017-06-10T07:11:30.079964Z",
     "start_time": "2017-06-10T07:11:30.072644Z"
    },
    "collapsed": true
   },
   "outputs": [],
   "source": [
    "def gen_seq_fname(ext='pdf',count_file='count.dat',reset_count='False'):\n",
    "    if reset_count =='True':\n",
    "        count =0\n",
    "    else:    \n",
    "        count = jb.load('count.dat') \n",
    "    str1='{}.{}'.format(count,ext)\n",
    "    count +=1\n",
    "    jb.dump(count,'count.dat')\n",
    "    return str1"
   ]
  },
  {
   "cell_type": "code",
   "execution_count": 11,
   "metadata": {
    "ExecuteTime": {
     "end_time": "2017-06-10T07:11:30.509143Z",
     "start_time": "2017-06-10T07:11:30.504364Z"
    },
    "collapsed": true
   },
   "outputs": [],
   "source": [
    "mod_label_dict={0:['Angry',u'\\U0001f620'],1:['Fear',u'\\U0001f628'],\\\n",
    "            2:['Happy',u'\\U0001f604'],3:['Sad',u'\\U0001f622'],4:['Surprise',u'\\U0001f632'],\\\n",
    "            5:['Neutral',u'\\U0001f610']}"
   ]
  },
  {
   "cell_type": "markdown",
   "metadata": {},
   "source": [
    "## Plot Images [Helper Functions]"
   ]
  },
  {
   "cell_type": "code",
   "execution_count": 12,
   "metadata": {
    "ExecuteTime": {
     "end_time": "2017-06-10T07:11:33.020967Z",
     "start_time": "2017-06-10T07:11:32.954246Z"
    },
    "collapsed": true
   },
   "outputs": [],
   "source": [
    "def plot_images(images, cls_true, cls_pred=None,save_fig='False'):\n",
    "    assert len(images) == len(cls_true) == 16\n",
    "    \n",
    "    #true_label=[mod_label_dict[i][1] for i in np.argmax(cls_true,axis=1)]\n",
    "    # Create figure with 4x4 sub-plots.\n",
    "    fig, axes = plt.subplots(4, 4,figsize=(10,10))\n",
    "    fig.subplots_adjust(hspace=0.4, wspace=0.3)\n",
    "    if cls_pred is None:\n",
    "        fig.subplots_adjust(hspace=0.3, wspace=0.3)\n",
    "\n",
    "    for i, ax in enumerate(axes.flat):\n",
    "        # Plot image.\n",
    "        ax.imshow(images[i].reshape(48,-1), cmap='gray')\n",
    "        label_color='blue'\n",
    "        true_=np.argmax(cls_true[i])\n",
    "        if cls_pred is None:\n",
    "            xlabel = \"{} : {}\".format(mod_label_dict[true_][0],mod_label_dict[true_][1])\n",
    "        else:\n",
    "            \n",
    "            pred_=np.argmax(cls_pred[i])\n",
    "            xlabel = \"{0} : {1}\".\\\n",
    "            format(mod_label_dict[true_][0], mod_label_dict[pred_][0])\n",
    "            \n",
    "    \n",
    "            if true_ != pred_:\n",
    "                label_color='red'\n",
    "        \n",
    "        ax.set_xlabel(xlabel,color=label_color,fontname='DejaVu Sans',fontsize=20)\n",
    "        \n",
    "        ax.set_xticks([])\n",
    "        ax.set_yticks([])\n",
    "        ax.set_aspect('equal')\n",
    "    plt.tight_layout()\n",
    "    if save_fig == 'True':\n",
    "        f=gen_seq_fname()\n",
    "        fig.savefig(f)\n",
    "        print('Saved as {}'.format(f))\n",
    "    "
   ]
  },
  {
   "cell_type": "markdown",
   "metadata": {},
   "source": [
    "## Generate weights and biases "
   ]
  },
  {
   "cell_type": "code",
   "execution_count": 13,
   "metadata": {
    "ExecuteTime": {
     "end_time": "2017-06-10T07:11:34.444432Z",
     "start_time": "2017-06-10T07:11:34.439559Z"
    },
    "collapsed": true
   },
   "outputs": [],
   "source": [
    "def new_weights(shape):\n",
    "    return tf.Variable(tf.truncated_normal(shape, stddev=0.05))\n",
    "\n",
    "def new_biases(length):\n",
    "    return tf.Variable(tf.constant(0.05, shape=[length]))"
   ]
  },
  {
   "cell_type": "code",
   "execution_count": 14,
   "metadata": {
    "ExecuteTime": {
     "end_time": "2017-06-10T07:11:35.100718Z",
     "start_time": "2017-06-10T07:11:35.057176Z"
    },
    "collapsed": true
   },
   "outputs": [],
   "source": [
    "def new_conv_layer(input,              # The previous layer.\n",
    "                   num_input_channels, # Num. channels in prev. layer.\n",
    "                   filter_size,        # Width and height of each filter.\n",
    "                   num_filters,        # Number of filters.\n",
    "                   use_pooling=True):  # Use 2x2 max-pooling.\n",
    "\n",
    "    # Shape of the filter-weights for the convolution.\n",
    "    shape = [filter_size, filter_size, num_input_channels, num_filters]\n",
    "\n",
    "    # Create new weights aka. filters with the given shape.\n",
    "    weights = new_weights(shape=shape)\n",
    "\n",
    "    # Create new biases, one for each filter.\n",
    "    biases = new_biases(length=num_filters)\n",
    "\n",
    "    # Create the TensorFlow operation for convolution.\n",
    "    # Note the strides are set to 1 in all dimensions.\n",
    "    # The first and last stride must always be 1,\n",
    "    # because the first is for the image-number and\n",
    "    # the last is for the input-channel.\n",
    "    # But e.g. strides=[1, 2, 2, 1] would mean that the filter\n",
    "    # is moved 2 pixels across the x- and y-axis of the image.\n",
    "    # The padding is set to 'SAME' which means the input image\n",
    "    # is padded with zeroes so the size of the output is the same.\n",
    "    layer = tf.nn.conv2d(input=input,\n",
    "                         filter=weights,\n",
    "                         strides=[1, 1, 1, 1],\n",
    "                         padding='SAME')\n",
    "\n",
    "    # Add the biases to the results of the convolution.\n",
    "    # A bias-value is added to each filter-channel.\n",
    "    layer += biases\n",
    "\n",
    "    # Use pooling to down-sample the image resolution?\n",
    "    if use_pooling:\n",
    "        # This is 2x2 max-pooling, which means that we\n",
    "        # consider 2x2 windows and select the largest value\n",
    "        # in each window. Then we move 2 pixels to the next window.\n",
    "        layer = tf.nn.max_pool(value=layer,\n",
    "                               ksize=[1, 2, 2, 1],\n",
    "                               strides=[1, 2, 2, 1],\n",
    "                               padding='SAME')\n",
    "\n",
    "    # Rectified Linear Unit (ReLU).\n",
    "    # It calculates max(x, 0) for each input pixel x.\n",
    "    # This adds some non-linearity to the formula and allows us\n",
    "    # to learn more complicated functions.\n",
    "    layer = tf.nn.relu(layer)\n",
    "\n",
    "    # Note that ReLU is normally executed before the pooling,\n",
    "    # but since relu(max_pool(x)) == max_pool(relu(x)) we can\n",
    "    # save 75% of the relu-operations by max-pooling first.\n",
    "\n",
    "    # We return both the resulting layer and the filter-weights\n",
    "    # because we will plot the weights later.\n",
    "    return layer, weights"
   ]
  },
  {
   "cell_type": "code",
   "execution_count": 15,
   "metadata": {
    "ExecuteTime": {
     "end_time": "2017-06-10T07:11:35.570404Z",
     "start_time": "2017-06-10T07:11:35.559088Z"
    },
    "collapsed": true
   },
   "outputs": [],
   "source": [
    "def flatten_layer(layer):\n",
    "    # Get the shape of the input layer.\n",
    "    layer_shape = layer.get_shape()\n",
    "\n",
    "    # The shape of the input layer is assumed to be:\n",
    "    # layer_shape == [num_images, img_height, img_width, num_channels]\n",
    "\n",
    "    # The number of features is: img_height * img_width * num_channels\n",
    "    # We can use a function from TensorFlow to calculate this.\n",
    "    num_features = layer_shape[1:4].num_elements()\n",
    "    \n",
    "    # Reshape the layer to [num_images, num_features].\n",
    "    # Note that we just set the size of the second dimension\n",
    "    # to num_features and the size of the first dimension to -1\n",
    "    # which means the size in that dimension is calculated\n",
    "    # so the total size of the tensor is unchanged from the reshaping.\n",
    "    layer_flat = tf.reshape(layer, [-1, num_features])\n",
    "\n",
    "    # The shape of the flattened layer is now:\n",
    "    # [num_images, img_height * img_width * num_channels]\n",
    "\n",
    "    # Return both the flattened layer and the number of features.\n",
    "    return layer_flat, num_features"
   ]
  },
  {
   "cell_type": "code",
   "execution_count": 16,
   "metadata": {
    "ExecuteTime": {
     "end_time": "2017-06-10T07:11:36.262475Z",
     "start_time": "2017-06-10T07:11:36.249748Z"
    },
    "collapsed": true
   },
   "outputs": [],
   "source": [
    "def new_fc_layer(input,          # The previous layer.\n",
    "                 num_inputs,     # Num. inputs from prev. layer.\n",
    "                 num_outputs,    # Num. outputs.\n",
    "                 use_relu=True): # Use Rectified Linear Unit (ReLU)?\n",
    "\n",
    "    # Create new weights and biases.\n",
    "    weights = new_weights(shape=[num_inputs, num_outputs])\n",
    "    biases = new_biases(length=num_outputs)\n",
    "\n",
    "    # Calculate the layer as the matrix multiplication of\n",
    "    # the input and weights, and then add the bias-values.\n",
    "    layer = tf.matmul(input, weights) + biases\n",
    "\n",
    "    # Use ReLU?\n",
    "    if use_relu:\n",
    "        layer = tf.nn.relu(layer)\n",
    "    \n",
    "    \n",
    "    \n",
    "    return layer"
   ]
  },
  {
   "cell_type": "markdown",
   "metadata": {},
   "source": [
    "## Placeholder variables"
   ]
  },
  {
   "cell_type": "code",
   "execution_count": 19,
   "metadata": {
    "ExecuteTime": {
     "end_time": "2017-06-10T07:12:53.266246Z",
     "start_time": "2017-06-10T07:12:53.254903Z"
    },
    "collapsed": true
   },
   "outputs": [],
   "source": [
    "tf.reset_default_graph()\n",
    "x = tf.placeholder(\"float\", shape=[None, image_size_flat],\\\n",
    "                   name='x')\n",
    "image_x = tf.reshape(x, \\\n",
    "                   [-1,image_size,image_size,\\\n",
    "                    num_channels])\n",
    "y=tf.placeholder(\"float\",\\\n",
    "                      shape=[None,num_classes],\\\n",
    "                       name='y')\n",
    "tf.add_to_collection('vars', x)\n",
    "tf.add_to_collection('vars', y)"
   ]
  },
  {
   "cell_type": "markdown",
   "metadata": {},
   "source": [
    "## Convolutional Layer 1"
   ]
  },
  {
   "cell_type": "code",
   "execution_count": 20,
   "metadata": {
    "ExecuteTime": {
     "end_time": "2017-06-10T07:12:54.557183Z",
     "start_time": "2017-06-10T07:12:54.534586Z"
    }
   },
   "outputs": [
    {
     "name": "stdout",
     "output_type": "stream",
     "text": [
      "Tensor(\"Relu:0\", shape=(?, 24, 24, 16), dtype=float32)\n",
      "<tf.Variable 'Variable:0' shape=(5, 5, 1, 16) dtype=float32_ref>\n"
     ]
    }
   ],
   "source": [
    "#tf.reset_default_graph()\n",
    "L1_conv, W1_conv=\\\n",
    "new_conv_layer(input = image_x,\\\n",
    "               num_input_channels=num_channels,\\\n",
    "               filter_size=filter_size1,\n",
    "               num_filters=num_filters1,\n",
    "               use_pooling=True)\n",
    "\n",
    "print(L1_conv)\n",
    "print(W1_conv)"
   ]
  },
  {
   "cell_type": "markdown",
   "metadata": {},
   "source": [
    "## Convolutional Layer 2"
   ]
  },
  {
   "cell_type": "code",
   "execution_count": 21,
   "metadata": {
    "ExecuteTime": {
     "end_time": "2017-06-10T07:12:58.412451Z",
     "start_time": "2017-06-10T07:12:58.390280Z"
    }
   },
   "outputs": [
    {
     "name": "stdout",
     "output_type": "stream",
     "text": [
      "Tensor(\"Relu_1:0\", shape=(?, 12, 12, 36), dtype=float32)\n",
      "<tf.Variable 'Variable_2:0' shape=(5, 5, 16, 36) dtype=float32_ref>\n"
     ]
    }
   ],
   "source": [
    "L2_conv, W2_conv=\\\n",
    "new_conv_layer(input = L1_conv,\\\n",
    "               num_input_channels=num_filters1,\\\n",
    "               filter_size=filter_size2,\n",
    "               num_filters=num_filters2,\n",
    "               use_pooling=True)\n",
    "\n",
    "print(L2_conv)\n",
    "print(W2_conv)"
   ]
  },
  {
   "cell_type": "markdown",
   "metadata": {},
   "source": [
    "## Prepare for Densely Connected Layer [ Flatten Input For DL]"
   ]
  },
  {
   "cell_type": "code",
   "execution_count": 22,
   "metadata": {
    "ExecuteTime": {
     "end_time": "2017-06-10T07:13:00.766815Z",
     "start_time": "2017-06-10T07:13:00.759426Z"
    }
   },
   "outputs": [
    {
     "name": "stdout",
     "output_type": "stream",
     "text": [
      "Tensor(\"Reshape_1:0\", shape=(?, 5184), dtype=float32)\n",
      "5184\n"
     ]
    }
   ],
   "source": [
    "L_flat, num_features = flatten_layer(L2_conv)\n",
    "print(L_flat)\n",
    "print(num_features)"
   ]
  },
  {
   "cell_type": "markdown",
   "metadata": {},
   "source": [
    "## Densely Connected Layer 1"
   ]
  },
  {
   "cell_type": "code",
   "execution_count": 23,
   "metadata": {
    "ExecuteTime": {
     "end_time": "2017-06-10T07:13:03.209353Z",
     "start_time": "2017-06-10T07:13:03.189992Z"
    }
   },
   "outputs": [
    {
     "data": {
      "text/plain": [
       "<tf.Tensor 'Relu_2:0' shape=(?, 128) dtype=float32>"
      ]
     },
     "execution_count": 23,
     "metadata": {},
     "output_type": "execute_result"
    }
   ],
   "source": [
    "L1_dc = new_fc_layer(input=L_flat,\n",
    "                         num_inputs=num_features,\n",
    "                         num_outputs=dc_size,\n",
    "                         use_relu=True)\n",
    "L1_dc"
   ]
  },
  {
   "cell_type": "markdown",
   "metadata": {
    "ExecuteTime": {
     "end_time": "2017-05-31T04:32:53.848285Z",
     "start_time": "2017-05-31T04:32:53.821406Z"
    }
   },
   "source": [
    "## Densely Connected Layer 2"
   ]
  },
  {
   "cell_type": "code",
   "execution_count": 24,
   "metadata": {
    "ExecuteTime": {
     "end_time": "2017-06-10T07:13:04.385980Z",
     "start_time": "2017-06-10T07:13:04.367877Z"
    }
   },
   "outputs": [
    {
     "data": {
      "text/plain": [
       "<tf.Tensor 'add_3:0' shape=(?, 6) dtype=float32>"
      ]
     },
     "execution_count": 24,
     "metadata": {},
     "output_type": "execute_result"
    }
   ],
   "source": [
    "L2_dc = new_fc_layer(input=L1_dc,\n",
    "                         num_inputs=dc_size,\n",
    "                         num_outputs=num_classes,\n",
    "                         use_relu=False)\n",
    "L2_dc"
   ]
  },
  {
   "cell_type": "markdown",
   "metadata": {},
   "source": [
    "## Prediction "
   ]
  },
  {
   "cell_type": "code",
   "execution_count": 25,
   "metadata": {
    "ExecuteTime": {
     "end_time": "2017-06-10T07:13:09.380439Z",
     "start_time": "2017-06-10T07:13:09.374573Z"
    }
   },
   "outputs": [
    {
     "name": "stdout",
     "output_type": "stream",
     "text": [
      "Tensor(\"Softmax:0\", shape=(?, 6), dtype=float32)\n"
     ]
    }
   ],
   "source": [
    "y_pred=tf.nn.softmax(L2_dc)\n",
    "print(y_pred)"
   ]
  },
  {
   "cell_type": "code",
   "execution_count": null,
   "metadata": {
    "ExecuteTime": {
     "end_time": "2017-06-10T05:13:43.665617Z",
     "start_time": "2017-06-10T05:13:43.662944Z"
    },
    "collapsed": true
   },
   "outputs": [],
   "source": [
    "#y_pred_val=tf.argmax(y_pred,dimension=1)\n",
    "#print(y_pred_val)"
   ]
  },
  {
   "cell_type": "markdown",
   "metadata": {},
   "source": [
    "## Cost-Function For Optimization"
   ]
  },
  {
   "cell_type": "code",
   "execution_count": 26,
   "metadata": {
    "ExecuteTime": {
     "end_time": "2017-06-10T07:13:16.374859Z",
     "start_time": "2017-06-10T07:13:16.341893Z"
    },
    "collapsed": true
   },
   "outputs": [],
   "source": [
    "cross_entropy = \\\n",
    "tf.nn.softmax_cross_entropy_with_logits(\\\n",
    "                                        logits=L2_dc,\n",
    "                                        labels=y)\n",
    "\n",
    "cost=tf.reduce_mean(cross_entropy)"
   ]
  },
  {
   "cell_type": "code",
   "execution_count": 27,
   "metadata": {
    "ExecuteTime": {
     "end_time": "2017-06-10T07:13:17.034020Z",
     "start_time": "2017-06-10T07:13:16.836889Z"
    },
    "collapsed": true
   },
   "outputs": [],
   "source": [
    "# optimizer = tf.train.AdamOptimizer(\\\n",
    "#                                    learning_rate=1e-4).minimize(cost)\n",
    "optimizer=tf.train.RMSPropOptimizer(0.0005, 0.9).minimize(cost)"
   ]
  },
  {
   "cell_type": "code",
   "execution_count": 28,
   "metadata": {
    "ExecuteTime": {
     "end_time": "2017-06-10T07:13:17.747117Z",
     "start_time": "2017-06-10T07:13:17.742883Z"
    },
    "collapsed": true
   },
   "outputs": [],
   "source": [
    "# correct_pred=tf.equal(y_true_val,y_pred_val)\n",
    "# accuracy1=tf.reduce_mean(tf.cast(correct_pred,tf.float32))\n",
    "def accuracy(predictions, labels):\n",
    "  return (100.0 * np.sum(np.argmax(predictions, 1) == np.argmax(labels, 1))\n",
    "          / predictions.shape[0])\n"
   ]
  },
  {
   "cell_type": "markdown",
   "metadata": {},
   "source": [
    "## TensorFlow Session\n",
    "\n"
   ]
  },
  {
   "cell_type": "code",
   "execution_count": 29,
   "metadata": {
    "ExecuteTime": {
     "end_time": "2017-06-10T07:13:25.006105Z",
     "start_time": "2017-06-10T07:13:24.925569Z"
    }
   },
   "outputs": [],
   "source": [
    "session = tf.Session()\n",
    "saver = tf.train.Saver(max_to_keep=10000)\n"
   ]
  },
  {
   "cell_type": "code",
   "execution_count": 31,
   "metadata": {
    "ExecuteTime": {
     "end_time": "2017-06-10T07:14:26.577743Z",
     "start_time": "2017-06-10T07:14:26.491724Z"
    }
   },
   "outputs": [
    {
     "name": "stdout",
     "output_type": "stream",
     "text": [
      "INFO:tensorflow:Restoring parameters from 1stmodel_checkpoints_2/1stmodel_1080_5516.0\n"
     ]
    }
   ],
   "source": [
    "saver.restore(sess=session,save_path='1stmodel_checkpoints_2/1stmodel_1080_5516.0')"
   ]
  },
  {
   "cell_type": "code",
   "execution_count": null,
   "metadata": {
    "ExecuteTime": {
     "end_time": "2017-06-10T05:21:17.445056Z",
     "start_time": "2017-06-10T05:21:17.427972Z"
    },
    "collapsed": true
   },
   "outputs": [],
   "source": [
    "# def optimistic_restore(session, save_file):\n",
    "#     reader = tf.train.NewCheckpointReader(save_file)\n",
    "#     saved_shapes = reader.get_variable_to_shape_map()\n",
    "#     var_names = sorted([(var.name, var.name.split(':')[0]) for var in tf.global_variables()\n",
    "#         if var.name.split(':')[0] in saved_shapes])\n",
    "#     restore_vars = []\n",
    "#     name2var = dict(zip(map(lambda x:x.name.split(':')[0], tf.global_variables()), tf.global_variables()))\n",
    "#     with tf.variable_scope('', reuse=True):\n",
    "#         for var_name, saved_var_name in var_names:\n",
    "#             curr_var = name2var[saved_var_name]\n",
    "#             var_shape = curr_var.get_shape().as_list()\n",
    "#             if var_shape == saved_shapes[saved_var_name]:\n",
    "#                 restore_vars.append(curr_var)\n",
    "#     saver = tf.train.Saver(restore_vars)\n",
    "#     saver.restore(session, save_file)"
   ]
  },
  {
   "cell_type": "markdown",
   "metadata": {},
   "source": [
    "## Ensemble Models\n",
    "From the previous notebook First Convolutional Neural Net-fv.ipynb, I save the model every 1000 iterations and to see how ensemble approach works, we will pick the almost all model with accuracy higher than 60% and predict on the test dataset and add prediction of all models together. Then, we will select the category by the highest score. Each model will pedict the categories by giving the probabilistic score between 0-1 for six categories and we will select the categories which gain most probabilistic score. In some cases, people assume some models work better therefore, the prediction is multiplied by a weight before summation. Here, I assume all the models give the accuracy around 61% and so I don't apply any weight to any model. All models are treated equally without biases."
   ]
  },
  {
   "cell_type": "code",
   "execution_count": 33,
   "metadata": {
    "ExecuteTime": {
     "end_time": "2017-06-10T07:21:27.315706Z",
     "start_time": "2017-06-10T07:21:27.302625Z"
    }
   },
   "outputs": [
    {
     "data": {
      "text/plain": [
       "['1stmodel_checkpoints_2/1stmodel_1080_5516.0',\n",
       " '1stmodel_checkpoints_2/1stmodel_2160_5997.0',\n",
       " '1stmodel_checkpoints_2/1stmodel_3240_5904.0',\n",
       " '1stmodel_checkpoints_2/1stmodel_4320_6317.0',\n",
       " '1stmodel_checkpoints_2/1stmodel_5400_6233.0',\n",
       " '1stmodel_checkpoints_2/1stmodel_6480_6112.0',\n",
       " '1stmodel_checkpoints_2/1stmodel_7560_6120.0',\n",
       " '1stmodel_checkpoints_2/1stmodel_8640_6183.0',\n",
       " '1stmodel_checkpoints_2/1stmodel_9720_6183.0',\n",
       " '1stmodel_checkpoints_2/1stmodel_10800_6230.0']"
      ]
     },
     "execution_count": 33,
     "metadata": {},
     "output_type": "execute_result"
    }
   ],
   "source": [
    "model_list=[i[:-6] for i in glob('1stmodel_checkpoints_2/*.index')]\n",
    "model_list"
   ]
  },
  {
   "cell_type": "markdown",
   "metadata": {},
   "source": [
    "### Reimport previous test dataset"
   ]
  },
  {
   "cell_type": "code",
   "execution_count": 42,
   "metadata": {
    "ExecuteTime": {
     "end_time": "2017-06-10T07:33:17.044218Z",
     "start_time": "2017-06-10T07:33:16.988967Z"
    }
   },
   "outputs": [],
   "source": [
    "testset=jb.load('test_dataset.pkl')\n",
    "test_y=testset['test_y']\n",
    "test_x=testset['test_x']"
   ]
  },
  {
   "cell_type": "code",
   "execution_count": 49,
   "metadata": {
    "ExecuteTime": {
     "end_time": "2017-06-10T07:36:31.416757Z",
     "start_time": "2017-06-10T07:36:08.065337Z"
    }
   },
   "outputs": [
    {
     "name": "stdout",
     "output_type": "stream",
     "text": [
      "INFO:tensorflow:Restoring parameters from 1stmodel_checkpoints_2/1stmodel_1080_5516.0\n",
      "INFO:tensorflow:Restoring parameters from 1stmodel_checkpoints_2/1stmodel_2160_5997.0\n",
      "INFO:tensorflow:Restoring parameters from 1stmodel_checkpoints_2/1stmodel_3240_5904.0\n",
      "INFO:tensorflow:Restoring parameters from 1stmodel_checkpoints_2/1stmodel_4320_6317.0\n",
      "INFO:tensorflow:Restoring parameters from 1stmodel_checkpoints_2/1stmodel_5400_6233.0\n",
      "INFO:tensorflow:Restoring parameters from 1stmodel_checkpoints_2/1stmodel_6480_6112.0\n",
      "INFO:tensorflow:Restoring parameters from 1stmodel_checkpoints_2/1stmodel_7560_6120.0\n",
      "INFO:tensorflow:Restoring parameters from 1stmodel_checkpoints_2/1stmodel_8640_6183.0\n",
      "INFO:tensorflow:Restoring parameters from 1stmodel_checkpoints_2/1stmodel_9720_6183.0\n"
     ]
    }
   ],
   "source": [
    "total_val_y=np.zeros((len(model_list[:-1]),*test_y.shape))\n",
    "for count,i in enumerate(model_list[:-1]):\n",
    "    saver.restore(sess=session,save_path=i)\n",
    "    total_val_y[count]=session.run(y_pred, feed_dict={x: test_x})"
   ]
  },
  {
   "cell_type": "code",
   "execution_count": 50,
   "metadata": {
    "ExecuteTime": {
     "end_time": "2017-06-10T07:36:34.193726Z",
     "start_time": "2017-06-10T07:36:34.190579Z"
    },
    "collapsed": true
   },
   "outputs": [],
   "source": [
    "ens_y=total_val_y.mean(axis=0)"
   ]
  },
  {
   "cell_type": "code",
   "execution_count": 51,
   "metadata": {
    "ExecuteTime": {
     "end_time": "2017-06-10T07:36:34.722439Z",
     "start_time": "2017-06-10T07:36:34.718142Z"
    }
   },
   "outputs": [
    {
     "data": {
      "text/plain": [
       "63.885088919288648"
      ]
     },
     "execution_count": 51,
     "metadata": {},
     "output_type": "execute_result"
    }
   ],
   "source": [
    "accuracy(validation_y,test_y)"
   ]
  },
  {
   "cell_type": "code",
   "execution_count": 37,
   "metadata": {
    "ExecuteTime": {
     "end_time": "2017-06-10T07:28:41.188483Z",
     "start_time": "2017-06-10T07:28:41.080344Z"
    },
    "collapsed": true
   },
   "outputs": [],
   "source": [
    "def plot_confusion_matrix(predictions, y_test,classes,\n",
    "                          normalize=False,\n",
    "                          title='Confusion matrix',\n",
    "                          #cmap=cb.diverging.RdYlBu_11_r.mpl_colormap):\n",
    "                          cmap=cb.sequential.YlGn_9.mpl_colormap):\n",
    "    \"\"\"\n",
    "    This function prints and plots the confusion matrix.\n",
    "    Normalization can be applied by setting `normalize=True`.\n",
    "    \"\"\"\n",
    "    \n",
    "    # Compute confusion matrix\n",
    "    predictions=np.argmax(predictions,1)\n",
    "    y_test=np.argmax(y_test,1)\n",
    "    cm = metrics.confusion_matrix(y_test, predictions)\n",
    "    np.set_printoptions(precision=2)\n",
    "    fig, ax1 = plt.subplots()    \n",
    "    \n",
    "    if normalize:\n",
    "        np.set_printoptions(precision=2)\n",
    "        cm = cm.astype('float') / cm.sum(axis=1)[:, np.newaxis]\n",
    "        p=ax1.imshow(cm, interpolation='nearest', cmap=cmap)\n",
    "        print(\"Normalized confusion matrix\")\n",
    "        cm=np.round(cm,2)\n",
    "    else:\n",
    "        p=ax1.imshow(cm, interpolation='nearest', cmap=cmap)\n",
    "        print('Confusion matrix, without normalization')\n",
    "        \n",
    "    \n",
    "    \n",
    "    plt.title(title)\n",
    "    plt.colorbar(p)\n",
    "    tick_marks = np.arange(len(classes))\n",
    "    plt.xticks(tick_marks, classes, rotation=45)\n",
    "    plt.yticks(tick_marks, classes)\n",
    "    \n",
    "    \n",
    "    \n",
    "    #print(cm)\n",
    "    thresh = cm.max() / 2.\n",
    "    for i, j in itertools.product(range(cm.shape[0]), range(cm.shape[1])):\n",
    "        plt.text(j, i, cm[i, j],\n",
    "                 horizontalalignment=\"center\",\n",
    "                 color=\"white\" if cm[i, j] > thresh else \"black\")\n",
    "\n",
    "    plt.tight_layout()\n",
    "    plt.ylabel('True label')\n",
    "    plt.xlabel('Predicted label')\n",
    "    plt.grid(False)\n",
    "\n",
    "\n"
   ]
  },
  {
   "cell_type": "code",
   "execution_count": 56,
   "metadata": {
    "ExecuteTime": {
     "end_time": "2017-06-10T07:41:54.361724Z",
     "start_time": "2017-06-10T07:41:48.655720Z"
    },
    "scrolled": true
   },
   "outputs": [
    {
     "data": {
      "application/javascript": [
       "/* Put everything inside the global mpl namespace */\n",
       "window.mpl = {};\n",
       "\n",
       "\n",
       "mpl.get_websocket_type = function() {\n",
       "    if (typeof(WebSocket) !== 'undefined') {\n",
       "        return WebSocket;\n",
       "    } else if (typeof(MozWebSocket) !== 'undefined') {\n",
       "        return MozWebSocket;\n",
       "    } else {\n",
       "        alert('Your browser does not have WebSocket support.' +\n",
       "              'Please try Chrome, Safari or Firefox ≥ 6. ' +\n",
       "              'Firefox 4 and 5 are also supported but you ' +\n",
       "              'have to enable WebSockets in about:config.');\n",
       "    };\n",
       "}\n",
       "\n",
       "mpl.figure = function(figure_id, websocket, ondownload, parent_element) {\n",
       "    this.id = figure_id;\n",
       "\n",
       "    this.ws = websocket;\n",
       "\n",
       "    this.supports_binary = (this.ws.binaryType != undefined);\n",
       "\n",
       "    if (!this.supports_binary) {\n",
       "        var warnings = document.getElementById(\"mpl-warnings\");\n",
       "        if (warnings) {\n",
       "            warnings.style.display = 'block';\n",
       "            warnings.textContent = (\n",
       "                \"This browser does not support binary websocket messages. \" +\n",
       "                    \"Performance may be slow.\");\n",
       "        }\n",
       "    }\n",
       "\n",
       "    this.imageObj = new Image();\n",
       "\n",
       "    this.context = undefined;\n",
       "    this.message = undefined;\n",
       "    this.canvas = undefined;\n",
       "    this.rubberband_canvas = undefined;\n",
       "    this.rubberband_context = undefined;\n",
       "    this.format_dropdown = undefined;\n",
       "\n",
       "    this.image_mode = 'full';\n",
       "\n",
       "    this.root = $('<div/>');\n",
       "    this._root_extra_style(this.root)\n",
       "    this.root.attr('style', 'display: inline-block');\n",
       "\n",
       "    $(parent_element).append(this.root);\n",
       "\n",
       "    this._init_header(this);\n",
       "    this._init_canvas(this);\n",
       "    this._init_toolbar(this);\n",
       "\n",
       "    var fig = this;\n",
       "\n",
       "    this.waiting = false;\n",
       "\n",
       "    this.ws.onopen =  function () {\n",
       "            fig.send_message(\"supports_binary\", {value: fig.supports_binary});\n",
       "            fig.send_message(\"send_image_mode\", {});\n",
       "            if (mpl.ratio != 1) {\n",
       "                fig.send_message(\"set_dpi_ratio\", {'dpi_ratio': mpl.ratio});\n",
       "            }\n",
       "            fig.send_message(\"refresh\", {});\n",
       "        }\n",
       "\n",
       "    this.imageObj.onload = function() {\n",
       "            if (fig.image_mode == 'full') {\n",
       "                // Full images could contain transparency (where diff images\n",
       "                // almost always do), so we need to clear the canvas so that\n",
       "                // there is no ghosting.\n",
       "                fig.context.clearRect(0, 0, fig.canvas.width, fig.canvas.height);\n",
       "            }\n",
       "            fig.context.drawImage(fig.imageObj, 0, 0);\n",
       "        };\n",
       "\n",
       "    this.imageObj.onunload = function() {\n",
       "        this.ws.close();\n",
       "    }\n",
       "\n",
       "    this.ws.onmessage = this._make_on_message_function(this);\n",
       "\n",
       "    this.ondownload = ondownload;\n",
       "}\n",
       "\n",
       "mpl.figure.prototype._init_header = function() {\n",
       "    var titlebar = $(\n",
       "        '<div class=\"ui-dialog-titlebar ui-widget-header ui-corner-all ' +\n",
       "        'ui-helper-clearfix\"/>');\n",
       "    var titletext = $(\n",
       "        '<div class=\"ui-dialog-title\" style=\"width: 100%; ' +\n",
       "        'text-align: center; padding: 3px;\"/>');\n",
       "    titlebar.append(titletext)\n",
       "    this.root.append(titlebar);\n",
       "    this.header = titletext[0];\n",
       "}\n",
       "\n",
       "\n",
       "\n",
       "mpl.figure.prototype._canvas_extra_style = function(canvas_div) {\n",
       "\n",
       "}\n",
       "\n",
       "\n",
       "mpl.figure.prototype._root_extra_style = function(canvas_div) {\n",
       "\n",
       "}\n",
       "\n",
       "mpl.figure.prototype._init_canvas = function() {\n",
       "    var fig = this;\n",
       "\n",
       "    var canvas_div = $('<div/>');\n",
       "\n",
       "    canvas_div.attr('style', 'position: relative; clear: both; outline: 0');\n",
       "\n",
       "    function canvas_keyboard_event(event) {\n",
       "        return fig.key_event(event, event['data']);\n",
       "    }\n",
       "\n",
       "    canvas_div.keydown('key_press', canvas_keyboard_event);\n",
       "    canvas_div.keyup('key_release', canvas_keyboard_event);\n",
       "    this.canvas_div = canvas_div\n",
       "    this._canvas_extra_style(canvas_div)\n",
       "    this.root.append(canvas_div);\n",
       "\n",
       "    var canvas = $('<canvas/>');\n",
       "    canvas.addClass('mpl-canvas');\n",
       "    canvas.attr('style', \"left: 0; top: 0; z-index: 0; outline: 0\")\n",
       "\n",
       "    this.canvas = canvas[0];\n",
       "    this.context = canvas[0].getContext(\"2d\");\n",
       "\n",
       "    var backingStore = this.context.backingStorePixelRatio ||\n",
       "\tthis.context.webkitBackingStorePixelRatio ||\n",
       "\tthis.context.mozBackingStorePixelRatio ||\n",
       "\tthis.context.msBackingStorePixelRatio ||\n",
       "\tthis.context.oBackingStorePixelRatio ||\n",
       "\tthis.context.backingStorePixelRatio || 1;\n",
       "\n",
       "    mpl.ratio = (window.devicePixelRatio || 1) / backingStore;\n",
       "\n",
       "    var rubberband = $('<canvas/>');\n",
       "    rubberband.attr('style', \"position: absolute; left: 0; top: 0; z-index: 1;\")\n",
       "\n",
       "    var pass_mouse_events = true;\n",
       "\n",
       "    canvas_div.resizable({\n",
       "        start: function(event, ui) {\n",
       "            pass_mouse_events = false;\n",
       "        },\n",
       "        resize: function(event, ui) {\n",
       "            fig.request_resize(ui.size.width, ui.size.height);\n",
       "        },\n",
       "        stop: function(event, ui) {\n",
       "            pass_mouse_events = true;\n",
       "            fig.request_resize(ui.size.width, ui.size.height);\n",
       "        },\n",
       "    });\n",
       "\n",
       "    function mouse_event_fn(event) {\n",
       "        if (pass_mouse_events)\n",
       "            return fig.mouse_event(event, event['data']);\n",
       "    }\n",
       "\n",
       "    rubberband.mousedown('button_press', mouse_event_fn);\n",
       "    rubberband.mouseup('button_release', mouse_event_fn);\n",
       "    // Throttle sequential mouse events to 1 every 20ms.\n",
       "    rubberband.mousemove('motion_notify', mouse_event_fn);\n",
       "\n",
       "    rubberband.mouseenter('figure_enter', mouse_event_fn);\n",
       "    rubberband.mouseleave('figure_leave', mouse_event_fn);\n",
       "\n",
       "    canvas_div.on(\"wheel\", function (event) {\n",
       "        event = event.originalEvent;\n",
       "        event['data'] = 'scroll'\n",
       "        if (event.deltaY < 0) {\n",
       "            event.step = 1;\n",
       "        } else {\n",
       "            event.step = -1;\n",
       "        }\n",
       "        mouse_event_fn(event);\n",
       "    });\n",
       "\n",
       "    canvas_div.append(canvas);\n",
       "    canvas_div.append(rubberband);\n",
       "\n",
       "    this.rubberband = rubberband;\n",
       "    this.rubberband_canvas = rubberband[0];\n",
       "    this.rubberband_context = rubberband[0].getContext(\"2d\");\n",
       "    this.rubberband_context.strokeStyle = \"#000000\";\n",
       "\n",
       "    this._resize_canvas = function(width, height) {\n",
       "        // Keep the size of the canvas, canvas container, and rubber band\n",
       "        // canvas in synch.\n",
       "        canvas_div.css('width', width)\n",
       "        canvas_div.css('height', height)\n",
       "\n",
       "        canvas.attr('width', width * mpl.ratio);\n",
       "        canvas.attr('height', height * mpl.ratio);\n",
       "        canvas.attr('style', 'width: ' + width + 'px; height: ' + height + 'px;');\n",
       "\n",
       "        rubberband.attr('width', width);\n",
       "        rubberband.attr('height', height);\n",
       "    }\n",
       "\n",
       "    // Set the figure to an initial 600x600px, this will subsequently be updated\n",
       "    // upon first draw.\n",
       "    this._resize_canvas(600, 600);\n",
       "\n",
       "    // Disable right mouse context menu.\n",
       "    $(this.rubberband_canvas).bind(\"contextmenu\",function(e){\n",
       "        return false;\n",
       "    });\n",
       "\n",
       "    function set_focus () {\n",
       "        canvas.focus();\n",
       "        canvas_div.focus();\n",
       "    }\n",
       "\n",
       "    window.setTimeout(set_focus, 100);\n",
       "}\n",
       "\n",
       "mpl.figure.prototype._init_toolbar = function() {\n",
       "    var fig = this;\n",
       "\n",
       "    var nav_element = $('<div/>')\n",
       "    nav_element.attr('style', 'width: 100%');\n",
       "    this.root.append(nav_element);\n",
       "\n",
       "    // Define a callback function for later on.\n",
       "    function toolbar_event(event) {\n",
       "        return fig.toolbar_button_onclick(event['data']);\n",
       "    }\n",
       "    function toolbar_mouse_event(event) {\n",
       "        return fig.toolbar_button_onmouseover(event['data']);\n",
       "    }\n",
       "\n",
       "    for(var toolbar_ind in mpl.toolbar_items) {\n",
       "        var name = mpl.toolbar_items[toolbar_ind][0];\n",
       "        var tooltip = mpl.toolbar_items[toolbar_ind][1];\n",
       "        var image = mpl.toolbar_items[toolbar_ind][2];\n",
       "        var method_name = mpl.toolbar_items[toolbar_ind][3];\n",
       "\n",
       "        if (!name) {\n",
       "            // put a spacer in here.\n",
       "            continue;\n",
       "        }\n",
       "        var button = $('<button/>');\n",
       "        button.addClass('ui-button ui-widget ui-state-default ui-corner-all ' +\n",
       "                        'ui-button-icon-only');\n",
       "        button.attr('role', 'button');\n",
       "        button.attr('aria-disabled', 'false');\n",
       "        button.click(method_name, toolbar_event);\n",
       "        button.mouseover(tooltip, toolbar_mouse_event);\n",
       "\n",
       "        var icon_img = $('<span/>');\n",
       "        icon_img.addClass('ui-button-icon-primary ui-icon');\n",
       "        icon_img.addClass(image);\n",
       "        icon_img.addClass('ui-corner-all');\n",
       "\n",
       "        var tooltip_span = $('<span/>');\n",
       "        tooltip_span.addClass('ui-button-text');\n",
       "        tooltip_span.html(tooltip);\n",
       "\n",
       "        button.append(icon_img);\n",
       "        button.append(tooltip_span);\n",
       "\n",
       "        nav_element.append(button);\n",
       "    }\n",
       "\n",
       "    var fmt_picker_span = $('<span/>');\n",
       "\n",
       "    var fmt_picker = $('<select/>');\n",
       "    fmt_picker.addClass('mpl-toolbar-option ui-widget ui-widget-content');\n",
       "    fmt_picker_span.append(fmt_picker);\n",
       "    nav_element.append(fmt_picker_span);\n",
       "    this.format_dropdown = fmt_picker[0];\n",
       "\n",
       "    for (var ind in mpl.extensions) {\n",
       "        var fmt = mpl.extensions[ind];\n",
       "        var option = $(\n",
       "            '<option/>', {selected: fmt === mpl.default_extension}).html(fmt);\n",
       "        fmt_picker.append(option)\n",
       "    }\n",
       "\n",
       "    // Add hover states to the ui-buttons\n",
       "    $( \".ui-button\" ).hover(\n",
       "        function() { $(this).addClass(\"ui-state-hover\");},\n",
       "        function() { $(this).removeClass(\"ui-state-hover\");}\n",
       "    );\n",
       "\n",
       "    var status_bar = $('<span class=\"mpl-message\"/>');\n",
       "    nav_element.append(status_bar);\n",
       "    this.message = status_bar[0];\n",
       "}\n",
       "\n",
       "mpl.figure.prototype.request_resize = function(x_pixels, y_pixels) {\n",
       "    // Request matplotlib to resize the figure. Matplotlib will then trigger a resize in the client,\n",
       "    // which will in turn request a refresh of the image.\n",
       "    this.send_message('resize', {'width': x_pixels, 'height': y_pixels});\n",
       "}\n",
       "\n",
       "mpl.figure.prototype.send_message = function(type, properties) {\n",
       "    properties['type'] = type;\n",
       "    properties['figure_id'] = this.id;\n",
       "    this.ws.send(JSON.stringify(properties));\n",
       "}\n",
       "\n",
       "mpl.figure.prototype.send_draw_message = function() {\n",
       "    if (!this.waiting) {\n",
       "        this.waiting = true;\n",
       "        this.ws.send(JSON.stringify({type: \"draw\", figure_id: this.id}));\n",
       "    }\n",
       "}\n",
       "\n",
       "\n",
       "mpl.figure.prototype.handle_save = function(fig, msg) {\n",
       "    var format_dropdown = fig.format_dropdown;\n",
       "    var format = format_dropdown.options[format_dropdown.selectedIndex].value;\n",
       "    fig.ondownload(fig, format);\n",
       "}\n",
       "\n",
       "\n",
       "mpl.figure.prototype.handle_resize = function(fig, msg) {\n",
       "    var size = msg['size'];\n",
       "    if (size[0] != fig.canvas.width || size[1] != fig.canvas.height) {\n",
       "        fig._resize_canvas(size[0], size[1]);\n",
       "        fig.send_message(\"refresh\", {});\n",
       "    };\n",
       "}\n",
       "\n",
       "mpl.figure.prototype.handle_rubberband = function(fig, msg) {\n",
       "    var x0 = msg['x0'] / mpl.ratio;\n",
       "    var y0 = (fig.canvas.height - msg['y0']) / mpl.ratio;\n",
       "    var x1 = msg['x1'] / mpl.ratio;\n",
       "    var y1 = (fig.canvas.height - msg['y1']) / mpl.ratio;\n",
       "    x0 = Math.floor(x0) + 0.5;\n",
       "    y0 = Math.floor(y0) + 0.5;\n",
       "    x1 = Math.floor(x1) + 0.5;\n",
       "    y1 = Math.floor(y1) + 0.5;\n",
       "    var min_x = Math.min(x0, x1);\n",
       "    var min_y = Math.min(y0, y1);\n",
       "    var width = Math.abs(x1 - x0);\n",
       "    var height = Math.abs(y1 - y0);\n",
       "\n",
       "    fig.rubberband_context.clearRect(\n",
       "        0, 0, fig.canvas.width, fig.canvas.height);\n",
       "\n",
       "    fig.rubberband_context.strokeRect(min_x, min_y, width, height);\n",
       "}\n",
       "\n",
       "mpl.figure.prototype.handle_figure_label = function(fig, msg) {\n",
       "    // Updates the figure title.\n",
       "    fig.header.textContent = msg['label'];\n",
       "}\n",
       "\n",
       "mpl.figure.prototype.handle_cursor = function(fig, msg) {\n",
       "    var cursor = msg['cursor'];\n",
       "    switch(cursor)\n",
       "    {\n",
       "    case 0:\n",
       "        cursor = 'pointer';\n",
       "        break;\n",
       "    case 1:\n",
       "        cursor = 'default';\n",
       "        break;\n",
       "    case 2:\n",
       "        cursor = 'crosshair';\n",
       "        break;\n",
       "    case 3:\n",
       "        cursor = 'move';\n",
       "        break;\n",
       "    }\n",
       "    fig.rubberband_canvas.style.cursor = cursor;\n",
       "}\n",
       "\n",
       "mpl.figure.prototype.handle_message = function(fig, msg) {\n",
       "    fig.message.textContent = msg['message'];\n",
       "}\n",
       "\n",
       "mpl.figure.prototype.handle_draw = function(fig, msg) {\n",
       "    // Request the server to send over a new figure.\n",
       "    fig.send_draw_message();\n",
       "}\n",
       "\n",
       "mpl.figure.prototype.handle_image_mode = function(fig, msg) {\n",
       "    fig.image_mode = msg['mode'];\n",
       "}\n",
       "\n",
       "mpl.figure.prototype.updated_canvas_event = function() {\n",
       "    // Called whenever the canvas gets updated.\n",
       "    this.send_message(\"ack\", {});\n",
       "}\n",
       "\n",
       "// A function to construct a web socket function for onmessage handling.\n",
       "// Called in the figure constructor.\n",
       "mpl.figure.prototype._make_on_message_function = function(fig) {\n",
       "    return function socket_on_message(evt) {\n",
       "        if (evt.data instanceof Blob) {\n",
       "            /* FIXME: We get \"Resource interpreted as Image but\n",
       "             * transferred with MIME type text/plain:\" errors on\n",
       "             * Chrome.  But how to set the MIME type?  It doesn't seem\n",
       "             * to be part of the websocket stream */\n",
       "            evt.data.type = \"image/png\";\n",
       "\n",
       "            /* Free the memory for the previous frames */\n",
       "            if (fig.imageObj.src) {\n",
       "                (window.URL || window.webkitURL).revokeObjectURL(\n",
       "                    fig.imageObj.src);\n",
       "            }\n",
       "\n",
       "            fig.imageObj.src = (window.URL || window.webkitURL).createObjectURL(\n",
       "                evt.data);\n",
       "            fig.updated_canvas_event();\n",
       "            fig.waiting = false;\n",
       "            return;\n",
       "        }\n",
       "        else if (typeof evt.data === 'string' && evt.data.slice(0, 21) == \"data:image/png;base64\") {\n",
       "            fig.imageObj.src = evt.data;\n",
       "            fig.updated_canvas_event();\n",
       "            fig.waiting = false;\n",
       "            return;\n",
       "        }\n",
       "\n",
       "        var msg = JSON.parse(evt.data);\n",
       "        var msg_type = msg['type'];\n",
       "\n",
       "        // Call the  \"handle_{type}\" callback, which takes\n",
       "        // the figure and JSON message as its only arguments.\n",
       "        try {\n",
       "            var callback = fig[\"handle_\" + msg_type];\n",
       "        } catch (e) {\n",
       "            console.log(\"No handler for the '\" + msg_type + \"' message type: \", msg);\n",
       "            return;\n",
       "        }\n",
       "\n",
       "        if (callback) {\n",
       "            try {\n",
       "                // console.log(\"Handling '\" + msg_type + \"' message: \", msg);\n",
       "                callback(fig, msg);\n",
       "            } catch (e) {\n",
       "                console.log(\"Exception inside the 'handler_\" + msg_type + \"' callback:\", e, e.stack, msg);\n",
       "            }\n",
       "        }\n",
       "    };\n",
       "}\n",
       "\n",
       "// from http://stackoverflow.com/questions/1114465/getting-mouse-location-in-canvas\n",
       "mpl.findpos = function(e) {\n",
       "    //this section is from http://www.quirksmode.org/js/events_properties.html\n",
       "    var targ;\n",
       "    if (!e)\n",
       "        e = window.event;\n",
       "    if (e.target)\n",
       "        targ = e.target;\n",
       "    else if (e.srcElement)\n",
       "        targ = e.srcElement;\n",
       "    if (targ.nodeType == 3) // defeat Safari bug\n",
       "        targ = targ.parentNode;\n",
       "\n",
       "    // jQuery normalizes the pageX and pageY\n",
       "    // pageX,Y are the mouse positions relative to the document\n",
       "    // offset() returns the position of the element relative to the document\n",
       "    var x = e.pageX - $(targ).offset().left;\n",
       "    var y = e.pageY - $(targ).offset().top;\n",
       "\n",
       "    return {\"x\": x, \"y\": y};\n",
       "};\n",
       "\n",
       "/*\n",
       " * return a copy of an object with only non-object keys\n",
       " * we need this to avoid circular references\n",
       " * http://stackoverflow.com/a/24161582/3208463\n",
       " */\n",
       "function simpleKeys (original) {\n",
       "  return Object.keys(original).reduce(function (obj, key) {\n",
       "    if (typeof original[key] !== 'object')\n",
       "        obj[key] = original[key]\n",
       "    return obj;\n",
       "  }, {});\n",
       "}\n",
       "\n",
       "mpl.figure.prototype.mouse_event = function(event, name) {\n",
       "    var canvas_pos = mpl.findpos(event)\n",
       "\n",
       "    if (name === 'button_press')\n",
       "    {\n",
       "        this.canvas.focus();\n",
       "        this.canvas_div.focus();\n",
       "    }\n",
       "\n",
       "    var x = canvas_pos.x * mpl.ratio;\n",
       "    var y = canvas_pos.y * mpl.ratio;\n",
       "\n",
       "    this.send_message(name, {x: x, y: y, button: event.button,\n",
       "                             step: event.step,\n",
       "                             guiEvent: simpleKeys(event)});\n",
       "\n",
       "    /* This prevents the web browser from automatically changing to\n",
       "     * the text insertion cursor when the button is pressed.  We want\n",
       "     * to control all of the cursor setting manually through the\n",
       "     * 'cursor' event from matplotlib */\n",
       "    event.preventDefault();\n",
       "    return false;\n",
       "}\n",
       "\n",
       "mpl.figure.prototype._key_event_extra = function(event, name) {\n",
       "    // Handle any extra behaviour associated with a key event\n",
       "}\n",
       "\n",
       "mpl.figure.prototype.key_event = function(event, name) {\n",
       "\n",
       "    // Prevent repeat events\n",
       "    if (name == 'key_press')\n",
       "    {\n",
       "        if (event.which === this._key)\n",
       "            return;\n",
       "        else\n",
       "            this._key = event.which;\n",
       "    }\n",
       "    if (name == 'key_release')\n",
       "        this._key = null;\n",
       "\n",
       "    var value = '';\n",
       "    if (event.ctrlKey && event.which != 17)\n",
       "        value += \"ctrl+\";\n",
       "    if (event.altKey && event.which != 18)\n",
       "        value += \"alt+\";\n",
       "    if (event.shiftKey && event.which != 16)\n",
       "        value += \"shift+\";\n",
       "\n",
       "    value += 'k';\n",
       "    value += event.which.toString();\n",
       "\n",
       "    this._key_event_extra(event, name);\n",
       "\n",
       "    this.send_message(name, {key: value,\n",
       "                             guiEvent: simpleKeys(event)});\n",
       "    return false;\n",
       "}\n",
       "\n",
       "mpl.figure.prototype.toolbar_button_onclick = function(name) {\n",
       "    if (name == 'download') {\n",
       "        this.handle_save(this, null);\n",
       "    } else {\n",
       "        this.send_message(\"toolbar_button\", {name: name});\n",
       "    }\n",
       "};\n",
       "\n",
       "mpl.figure.prototype.toolbar_button_onmouseover = function(tooltip) {\n",
       "    this.message.textContent = tooltip;\n",
       "};\n",
       "mpl.toolbar_items = [[\"Home\", \"Reset original view\", \"fa fa-home icon-home\", \"home\"], [\"Back\", \"Back to  previous view\", \"fa fa-arrow-left icon-arrow-left\", \"back\"], [\"Forward\", \"Forward to next view\", \"fa fa-arrow-right icon-arrow-right\", \"forward\"], [\"\", \"\", \"\", \"\"], [\"Pan\", \"Pan axes with left mouse, zoom with right\", \"fa fa-arrows icon-move\", \"pan\"], [\"Zoom\", \"Zoom to rectangle\", \"fa fa-square-o icon-check-empty\", \"zoom\"], [\"\", \"\", \"\", \"\"], [\"Download\", \"Download plot\", \"fa fa-floppy-o icon-save\", \"download\"]];\n",
       "\n",
       "mpl.extensions = [\"eps\", \"jpeg\", \"pdf\", \"png\", \"ps\", \"raw\", \"svg\", \"tif\"];\n",
       "\n",
       "mpl.default_extension = \"png\";var comm_websocket_adapter = function(comm) {\n",
       "    // Create a \"websocket\"-like object which calls the given IPython comm\n",
       "    // object with the appropriate methods. Currently this is a non binary\n",
       "    // socket, so there is still some room for performance tuning.\n",
       "    var ws = {};\n",
       "\n",
       "    ws.close = function() {\n",
       "        comm.close()\n",
       "    };\n",
       "    ws.send = function(m) {\n",
       "        //console.log('sending', m);\n",
       "        comm.send(m);\n",
       "    };\n",
       "    // Register the callback with on_msg.\n",
       "    comm.on_msg(function(msg) {\n",
       "        //console.log('receiving', msg['content']['data'], msg);\n",
       "        // Pass the mpl event to the overriden (by mpl) onmessage function.\n",
       "        ws.onmessage(msg['content']['data'])\n",
       "    });\n",
       "    return ws;\n",
       "}\n",
       "\n",
       "mpl.mpl_figure_comm = function(comm, msg) {\n",
       "    // This is the function which gets called when the mpl process\n",
       "    // starts-up an IPython Comm through the \"matplotlib\" channel.\n",
       "\n",
       "    var id = msg.content.data.id;\n",
       "    // Get hold of the div created by the display call when the Comm\n",
       "    // socket was opened in Python.\n",
       "    var element = $(\"#\" + id);\n",
       "    var ws_proxy = comm_websocket_adapter(comm)\n",
       "\n",
       "    function ondownload(figure, format) {\n",
       "        window.open(figure.imageObj.src);\n",
       "    }\n",
       "\n",
       "    var fig = new mpl.figure(id, ws_proxy,\n",
       "                           ondownload,\n",
       "                           element.get(0));\n",
       "\n",
       "    // Call onopen now - mpl needs it, as it is assuming we've passed it a real\n",
       "    // web socket which is closed, not our websocket->open comm proxy.\n",
       "    ws_proxy.onopen();\n",
       "\n",
       "    fig.parent_element = element.get(0);\n",
       "    fig.cell_info = mpl.find_output_cell(\"<div id='\" + id + \"'></div>\");\n",
       "    if (!fig.cell_info) {\n",
       "        console.error(\"Failed to find cell for figure\", id, fig);\n",
       "        return;\n",
       "    }\n",
       "\n",
       "    var output_index = fig.cell_info[2]\n",
       "    var cell = fig.cell_info[0];\n",
       "\n",
       "};\n",
       "\n",
       "mpl.figure.prototype.handle_close = function(fig, msg) {\n",
       "    var width = fig.canvas.width/mpl.ratio\n",
       "    fig.root.unbind('remove')\n",
       "\n",
       "    // Update the output cell to use the data from the current canvas.\n",
       "    fig.push_to_output();\n",
       "    var dataURL = fig.canvas.toDataURL();\n",
       "    // Re-enable the keyboard manager in IPython - without this line, in FF,\n",
       "    // the notebook keyboard shortcuts fail.\n",
       "    IPython.keyboard_manager.enable()\n",
       "    $(fig.parent_element).html('<img src=\"' + dataURL + '\" width=\"' + width + '\">');\n",
       "    fig.close_ws(fig, msg);\n",
       "}\n",
       "\n",
       "mpl.figure.prototype.close_ws = function(fig, msg){\n",
       "    fig.send_message('closing', msg);\n",
       "    // fig.ws.close()\n",
       "}\n",
       "\n",
       "mpl.figure.prototype.push_to_output = function(remove_interactive) {\n",
       "    // Turn the data on the canvas into data in the output cell.\n",
       "    var width = this.canvas.width/mpl.ratio\n",
       "    var dataURL = this.canvas.toDataURL();\n",
       "    this.cell_info[1]['text/html'] = '<img src=\"' + dataURL + '\" width=\"' + width + '\">';\n",
       "}\n",
       "\n",
       "mpl.figure.prototype.updated_canvas_event = function() {\n",
       "    // Tell IPython that the notebook contents must change.\n",
       "    IPython.notebook.set_dirty(true);\n",
       "    this.send_message(\"ack\", {});\n",
       "    var fig = this;\n",
       "    // Wait a second, then push the new image to the DOM so\n",
       "    // that it is saved nicely (might be nice to debounce this).\n",
       "    setTimeout(function () { fig.push_to_output() }, 1000);\n",
       "}\n",
       "\n",
       "mpl.figure.prototype._init_toolbar = function() {\n",
       "    var fig = this;\n",
       "\n",
       "    var nav_element = $('<div/>')\n",
       "    nav_element.attr('style', 'width: 100%');\n",
       "    this.root.append(nav_element);\n",
       "\n",
       "    // Define a callback function for later on.\n",
       "    function toolbar_event(event) {\n",
       "        return fig.toolbar_button_onclick(event['data']);\n",
       "    }\n",
       "    function toolbar_mouse_event(event) {\n",
       "        return fig.toolbar_button_onmouseover(event['data']);\n",
       "    }\n",
       "\n",
       "    for(var toolbar_ind in mpl.toolbar_items){\n",
       "        var name = mpl.toolbar_items[toolbar_ind][0];\n",
       "        var tooltip = mpl.toolbar_items[toolbar_ind][1];\n",
       "        var image = mpl.toolbar_items[toolbar_ind][2];\n",
       "        var method_name = mpl.toolbar_items[toolbar_ind][3];\n",
       "\n",
       "        if (!name) { continue; };\n",
       "\n",
       "        var button = $('<button class=\"btn btn-default\" href=\"#\" title=\"' + name + '\"><i class=\"fa ' + image + ' fa-lg\"></i></button>');\n",
       "        button.click(method_name, toolbar_event);\n",
       "        button.mouseover(tooltip, toolbar_mouse_event);\n",
       "        nav_element.append(button);\n",
       "    }\n",
       "\n",
       "    // Add the status bar.\n",
       "    var status_bar = $('<span class=\"mpl-message\" style=\"text-align:right; float: right;\"/>');\n",
       "    nav_element.append(status_bar);\n",
       "    this.message = status_bar[0];\n",
       "\n",
       "    // Add the close button to the window.\n",
       "    var buttongrp = $('<div class=\"btn-group inline pull-right\"></div>');\n",
       "    var button = $('<button class=\"btn btn-mini btn-primary\" href=\"#\" title=\"Stop Interaction\"><i class=\"fa fa-power-off icon-remove icon-large\"></i></button>');\n",
       "    button.click(function (evt) { fig.handle_close(fig, {}); } );\n",
       "    button.mouseover('Stop Interaction', toolbar_mouse_event);\n",
       "    buttongrp.append(button);\n",
       "    var titlebar = this.root.find($('.ui-dialog-titlebar'));\n",
       "    titlebar.prepend(buttongrp);\n",
       "}\n",
       "\n",
       "mpl.figure.prototype._root_extra_style = function(el){\n",
       "    var fig = this\n",
       "    el.on(\"remove\", function(){\n",
       "\tfig.close_ws(fig, {});\n",
       "    });\n",
       "}\n",
       "\n",
       "mpl.figure.prototype._canvas_extra_style = function(el){\n",
       "    // this is important to make the div 'focusable\n",
       "    el.attr('tabindex', 0)\n",
       "    // reach out to IPython and tell the keyboard manager to turn it's self\n",
       "    // off when our div gets focus\n",
       "\n",
       "    // location in version 3\n",
       "    if (IPython.notebook.keyboard_manager) {\n",
       "        IPython.notebook.keyboard_manager.register_events(el);\n",
       "    }\n",
       "    else {\n",
       "        // location in version 2\n",
       "        IPython.keyboard_manager.register_events(el);\n",
       "    }\n",
       "\n",
       "}\n",
       "\n",
       "mpl.figure.prototype._key_event_extra = function(event, name) {\n",
       "    var manager = IPython.notebook.keyboard_manager;\n",
       "    if (!manager)\n",
       "        manager = IPython.keyboard_manager;\n",
       "\n",
       "    // Check for shift+enter\n",
       "    if (event.shiftKey && event.which == 13) {\n",
       "        this.canvas_div.blur();\n",
       "        // select the cell after this one\n",
       "        var index = IPython.notebook.find_cell_index(this.cell_info[0]);\n",
       "        IPython.notebook.select(index + 1);\n",
       "    }\n",
       "}\n",
       "\n",
       "mpl.figure.prototype.handle_save = function(fig, msg) {\n",
       "    fig.ondownload(fig, null);\n",
       "}\n",
       "\n",
       "\n",
       "mpl.find_output_cell = function(html_output) {\n",
       "    // Return the cell and output element which can be found *uniquely* in the notebook.\n",
       "    // Note - this is a bit hacky, but it is done because the \"notebook_saving.Notebook\"\n",
       "    // IPython event is triggered only after the cells have been serialised, which for\n",
       "    // our purposes (turning an active figure into a static one), is too late.\n",
       "    var cells = IPython.notebook.get_cells();\n",
       "    var ncells = cells.length;\n",
       "    for (var i=0; i<ncells; i++) {\n",
       "        var cell = cells[i];\n",
       "        if (cell.cell_type === 'code'){\n",
       "            for (var j=0; j<cell.output_area.outputs.length; j++) {\n",
       "                var data = cell.output_area.outputs[j];\n",
       "                if (data.data) {\n",
       "                    // IPython >= 3 moved mimebundle to data attribute of output\n",
       "                    data = data.data;\n",
       "                }\n",
       "                if (data['text/html'] == html_output) {\n",
       "                    return [cell, data, j];\n",
       "                }\n",
       "            }\n",
       "        }\n",
       "    }\n",
       "}\n",
       "\n",
       "// Register the function which deals with the matplotlib target/channel.\n",
       "// The kernel may be null if the page has been refreshed.\n",
       "if (IPython.notebook.kernel != null) {\n",
       "    IPython.notebook.kernel.comm_manager.register_target('matplotlib', mpl.mpl_figure_comm);\n",
       "}\n"
      ],
      "text/plain": [
       "<IPython.core.display.Javascript object>"
      ]
     },
     "metadata": {},
     "output_type": "display_data"
    },
    {
     "data": {
      "text/html": [
       "<img src=\"data:image/png;base64,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\" width=\"800\">"
      ],
      "text/plain": [
       "<IPython.core.display.HTML object>"
      ]
     },
     "metadata": {},
     "output_type": "display_data"
    },
    {
     "name": "stdout",
     "output_type": "stream",
     "text": [
      "Normalized confusion matrix\n"
     ]
    }
   ],
   "source": [
    "plot_confusion_matrix(ens_y,test_y,np.array(list(mod_label_dict.values()))[:,0],\\\n",
    "                     normalize=True)\n",
    "plt.savefig('Images/Ensemble.png',dpi=900)"
   ]
  },
  {
   "cell_type": "code",
   "execution_count": 57,
   "metadata": {
    "ExecuteTime": {
     "end_time": "2017-06-10T08:10:04.946216Z",
     "start_time": "2017-06-10T08:10:04.933896Z"
    },
    "collapsed": true
   },
   "outputs": [],
   "source": []
  },
  {
   "cell_type": "code",
   "execution_count": null,
   "metadata": {
    "collapsed": true
   },
   "outputs": [],
   "source": []
  }
 ],
 "metadata": {
  "kernelspec": {
   "display_name": "Python 3",
   "language": "python",
   "name": "python3"
  },
  "language_info": {
   "codemirror_mode": {
    "name": "ipython",
    "version": 3
   },
   "file_extension": ".py",
   "mimetype": "text/x-python",
   "name": "python",
   "nbconvert_exporter": "python",
   "pygments_lexer": "ipython3",
   "version": "3.6.0"
  },
  "toc": {
   "colors": {
    "hover_highlight": "#DAA520",
    "navigate_num": "#000000",
    "navigate_text": "#333333",
    "running_highlight": "#FF0000",
    "selected_highlight": "#FFD700",
    "sidebar_border": "#EEEEEE",
    "wrapper_background": "#FFFFFF"
   },
   "moveMenuLeft": true,
   "nav_menu": {
    "height": "4px",
    "width": "254px"
   },
   "navigate_menu": true,
   "number_sections": true,
   "sideBar": true,
   "threshold": 4,
   "toc_cell": false,
   "toc_section_display": "block",
   "toc_window_display": false,
   "widenNotebook": false
  }
 },
 "nbformat": 4,
 "nbformat_minor": 2
}
